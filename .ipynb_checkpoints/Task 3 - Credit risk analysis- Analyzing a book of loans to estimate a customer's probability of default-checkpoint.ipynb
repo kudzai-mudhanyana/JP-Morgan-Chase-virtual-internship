{
 "cells": [
  {
   "cell_type": "code",
   "execution_count": 47,
   "id": "34da1cb6",
   "metadata": {},
   "outputs": [],
   "source": [
    "import pandas as pd\n",
    "import numpy as np"
   ]
  },
  {
   "cell_type": "code",
   "execution_count": 22,
   "id": "ab2e460b",
   "metadata": {},
   "outputs": [
    {
     "data": {
      "text/html": [
       "<div>\n",
       "<style scoped>\n",
       "    .dataframe tbody tr th:only-of-type {\n",
       "        vertical-align: middle;\n",
       "    }\n",
       "\n",
       "    .dataframe tbody tr th {\n",
       "        vertical-align: top;\n",
       "    }\n",
       "\n",
       "    .dataframe thead th {\n",
       "        text-align: right;\n",
       "    }\n",
       "</style>\n",
       "<table border=\"1\" class=\"dataframe\">\n",
       "  <thead>\n",
       "    <tr style=\"text-align: right;\">\n",
       "      <th></th>\n",
       "      <th>customer_id</th>\n",
       "      <th>credit_lines_outstanding</th>\n",
       "      <th>loan_amt_outstanding</th>\n",
       "      <th>total_debt_outstanding</th>\n",
       "      <th>income</th>\n",
       "      <th>years_employed</th>\n",
       "      <th>fico_score</th>\n",
       "      <th>default</th>\n",
       "    </tr>\n",
       "  </thead>\n",
       "  <tbody>\n",
       "    <tr>\n",
       "      <th>0</th>\n",
       "      <td>8153374</td>\n",
       "      <td>0</td>\n",
       "      <td>5221.545193</td>\n",
       "      <td>3915.471226</td>\n",
       "      <td>78039.38546</td>\n",
       "      <td>5</td>\n",
       "      <td>605</td>\n",
       "      <td>0</td>\n",
       "    </tr>\n",
       "    <tr>\n",
       "      <th>1</th>\n",
       "      <td>7442532</td>\n",
       "      <td>5</td>\n",
       "      <td>1958.928726</td>\n",
       "      <td>8228.752520</td>\n",
       "      <td>26648.43525</td>\n",
       "      <td>2</td>\n",
       "      <td>572</td>\n",
       "      <td>1</td>\n",
       "    </tr>\n",
       "    <tr>\n",
       "      <th>2</th>\n",
       "      <td>2256073</td>\n",
       "      <td>0</td>\n",
       "      <td>3363.009259</td>\n",
       "      <td>2027.830850</td>\n",
       "      <td>65866.71246</td>\n",
       "      <td>4</td>\n",
       "      <td>602</td>\n",
       "      <td>0</td>\n",
       "    </tr>\n",
       "    <tr>\n",
       "      <th>3</th>\n",
       "      <td>4885975</td>\n",
       "      <td>0</td>\n",
       "      <td>4766.648001</td>\n",
       "      <td>2501.730397</td>\n",
       "      <td>74356.88347</td>\n",
       "      <td>5</td>\n",
       "      <td>612</td>\n",
       "      <td>0</td>\n",
       "    </tr>\n",
       "    <tr>\n",
       "      <th>4</th>\n",
       "      <td>4700614</td>\n",
       "      <td>1</td>\n",
       "      <td>1345.827718</td>\n",
       "      <td>1768.826187</td>\n",
       "      <td>23448.32631</td>\n",
       "      <td>6</td>\n",
       "      <td>631</td>\n",
       "      <td>0</td>\n",
       "    </tr>\n",
       "  </tbody>\n",
       "</table>\n",
       "</div>"
      ],
      "text/plain": [
       "   customer_id  credit_lines_outstanding  loan_amt_outstanding  \\\n",
       "0      8153374                         0           5221.545193   \n",
       "1      7442532                         5           1958.928726   \n",
       "2      2256073                         0           3363.009259   \n",
       "3      4885975                         0           4766.648001   \n",
       "4      4700614                         1           1345.827718   \n",
       "\n",
       "   total_debt_outstanding       income  years_employed  fico_score  default  \n",
       "0             3915.471226  78039.38546               5         605        0  \n",
       "1             8228.752520  26648.43525               2         572        1  \n",
       "2             2027.830850  65866.71246               4         602        0  \n",
       "3             2501.730397  74356.88347               5         612        0  \n",
       "4             1768.826187  23448.32631               6         631        0  "
      ]
     },
     "execution_count": 22,
     "metadata": {},
     "output_type": "execute_result"
    }
   ],
   "source": [
    "data = pd.read_csv(\"data/Task_3_and_4_Loan_Data.csv\")\n",
    "\n",
    "data.head()"
   ]
  },
  {
   "cell_type": "code",
   "execution_count": 23,
   "id": "2ff1cf92",
   "metadata": {},
   "outputs": [
    {
     "name": "stdout",
     "output_type": "stream",
     "text": [
      "<class 'pandas.core.frame.DataFrame'>\n",
      "RangeIndex: 10000 entries, 0 to 9999\n",
      "Data columns (total 8 columns):\n",
      " #   Column                    Non-Null Count  Dtype  \n",
      "---  ------                    --------------  -----  \n",
      " 0   customer_id               10000 non-null  int64  \n",
      " 1   credit_lines_outstanding  10000 non-null  int64  \n",
      " 2   loan_amt_outstanding      10000 non-null  float64\n",
      " 3   total_debt_outstanding    10000 non-null  float64\n",
      " 4   income                    10000 non-null  float64\n",
      " 5   years_employed            10000 non-null  int64  \n",
      " 6   fico_score                10000 non-null  int64  \n",
      " 7   default                   10000 non-null  int64  \n",
      "dtypes: float64(3), int64(5)\n",
      "memory usage: 625.1 KB\n"
     ]
    }
   ],
   "source": [
    "data.info()"
   ]
  },
  {
   "cell_type": "code",
   "execution_count": 24,
   "id": "ea950da6",
   "metadata": {},
   "outputs": [
    {
     "data": {
      "text/html": [
       "<div>\n",
       "<style scoped>\n",
       "    .dataframe tbody tr th:only-of-type {\n",
       "        vertical-align: middle;\n",
       "    }\n",
       "\n",
       "    .dataframe tbody tr th {\n",
       "        vertical-align: top;\n",
       "    }\n",
       "\n",
       "    .dataframe thead th {\n",
       "        text-align: right;\n",
       "    }\n",
       "</style>\n",
       "<table border=\"1\" class=\"dataframe\">\n",
       "  <thead>\n",
       "    <tr style=\"text-align: right;\">\n",
       "      <th></th>\n",
       "      <th>customer_id</th>\n",
       "      <th>credit_lines_outstanding</th>\n",
       "      <th>loan_amt_outstanding</th>\n",
       "      <th>total_debt_outstanding</th>\n",
       "      <th>income</th>\n",
       "      <th>years_employed</th>\n",
       "      <th>fico_score</th>\n",
       "      <th>default</th>\n",
       "    </tr>\n",
       "  </thead>\n",
       "  <tbody>\n",
       "    <tr>\n",
       "      <th>count</th>\n",
       "      <td>1.000000e+04</td>\n",
       "      <td>10000.000000</td>\n",
       "      <td>10000.000000</td>\n",
       "      <td>10000.000000</td>\n",
       "      <td>10000.000000</td>\n",
       "      <td>10000.000000</td>\n",
       "      <td>10000.000000</td>\n",
       "      <td>10000.000000</td>\n",
       "    </tr>\n",
       "    <tr>\n",
       "      <th>mean</th>\n",
       "      <td>4.974577e+06</td>\n",
       "      <td>1.461200</td>\n",
       "      <td>4159.677034</td>\n",
       "      <td>8718.916797</td>\n",
       "      <td>70039.901401</td>\n",
       "      <td>4.552800</td>\n",
       "      <td>637.557700</td>\n",
       "      <td>0.185100</td>\n",
       "    </tr>\n",
       "    <tr>\n",
       "      <th>std</th>\n",
       "      <td>2.293890e+06</td>\n",
       "      <td>1.743846</td>\n",
       "      <td>1421.399078</td>\n",
       "      <td>6627.164762</td>\n",
       "      <td>20072.214143</td>\n",
       "      <td>1.566862</td>\n",
       "      <td>60.657906</td>\n",
       "      <td>0.388398</td>\n",
       "    </tr>\n",
       "    <tr>\n",
       "      <th>min</th>\n",
       "      <td>1.000324e+06</td>\n",
       "      <td>0.000000</td>\n",
       "      <td>46.783973</td>\n",
       "      <td>31.652732</td>\n",
       "      <td>1000.000000</td>\n",
       "      <td>0.000000</td>\n",
       "      <td>408.000000</td>\n",
       "      <td>0.000000</td>\n",
       "    </tr>\n",
       "    <tr>\n",
       "      <th>25%</th>\n",
       "      <td>2.977661e+06</td>\n",
       "      <td>0.000000</td>\n",
       "      <td>3154.235371</td>\n",
       "      <td>4199.836020</td>\n",
       "      <td>56539.867903</td>\n",
       "      <td>3.000000</td>\n",
       "      <td>597.000000</td>\n",
       "      <td>0.000000</td>\n",
       "    </tr>\n",
       "    <tr>\n",
       "      <th>50%</th>\n",
       "      <td>4.989502e+06</td>\n",
       "      <td>1.000000</td>\n",
       "      <td>4052.377228</td>\n",
       "      <td>6732.407217</td>\n",
       "      <td>70085.826330</td>\n",
       "      <td>5.000000</td>\n",
       "      <td>638.000000</td>\n",
       "      <td>0.000000</td>\n",
       "    </tr>\n",
       "    <tr>\n",
       "      <th>75%</th>\n",
       "      <td>6.967210e+06</td>\n",
       "      <td>2.000000</td>\n",
       "      <td>5052.898103</td>\n",
       "      <td>11272.263740</td>\n",
       "      <td>83429.166133</td>\n",
       "      <td>6.000000</td>\n",
       "      <td>679.000000</td>\n",
       "      <td>0.000000</td>\n",
       "    </tr>\n",
       "    <tr>\n",
       "      <th>max</th>\n",
       "      <td>8.999789e+06</td>\n",
       "      <td>5.000000</td>\n",
       "      <td>10750.677810</td>\n",
       "      <td>43688.784100</td>\n",
       "      <td>148412.180500</td>\n",
       "      <td>10.000000</td>\n",
       "      <td>850.000000</td>\n",
       "      <td>1.000000</td>\n",
       "    </tr>\n",
       "  </tbody>\n",
       "</table>\n",
       "</div>"
      ],
      "text/plain": [
       "        customer_id  credit_lines_outstanding  loan_amt_outstanding  \\\n",
       "count  1.000000e+04              10000.000000          10000.000000   \n",
       "mean   4.974577e+06                  1.461200           4159.677034   \n",
       "std    2.293890e+06                  1.743846           1421.399078   \n",
       "min    1.000324e+06                  0.000000             46.783973   \n",
       "25%    2.977661e+06                  0.000000           3154.235371   \n",
       "50%    4.989502e+06                  1.000000           4052.377228   \n",
       "75%    6.967210e+06                  2.000000           5052.898103   \n",
       "max    8.999789e+06                  5.000000          10750.677810   \n",
       "\n",
       "       total_debt_outstanding         income  years_employed    fico_score  \\\n",
       "count            10000.000000   10000.000000    10000.000000  10000.000000   \n",
       "mean              8718.916797   70039.901401        4.552800    637.557700   \n",
       "std               6627.164762   20072.214143        1.566862     60.657906   \n",
       "min                 31.652732    1000.000000        0.000000    408.000000   \n",
       "25%               4199.836020   56539.867903        3.000000    597.000000   \n",
       "50%               6732.407217   70085.826330        5.000000    638.000000   \n",
       "75%              11272.263740   83429.166133        6.000000    679.000000   \n",
       "max              43688.784100  148412.180500       10.000000    850.000000   \n",
       "\n",
       "            default  \n",
       "count  10000.000000  \n",
       "mean       0.185100  \n",
       "std        0.388398  \n",
       "min        0.000000  \n",
       "25%        0.000000  \n",
       "50%        0.000000  \n",
       "75%        0.000000  \n",
       "max        1.000000  "
      ]
     },
     "execution_count": 24,
     "metadata": {},
     "output_type": "execute_result"
    }
   ],
   "source": [
    "data.describe()"
   ]
  },
  {
   "cell_type": "code",
   "execution_count": 25,
   "id": "163aa980",
   "metadata": {},
   "outputs": [],
   "source": [
    "from sklearn.feature_selection import mutual_info_classif\n",
    "\n",
    "X = data.drop('default', axis=1)\n",
    "y = data['default']\n",
    "\n",
    "mutual_info = mutual_info_classif(X, y)\n",
    "mutual_info = pd.Series(mutual_info, name = \"mutual_info\", index = X.columns)\n"
   ]
  },
  {
   "cell_type": "code",
   "execution_count": 26,
   "id": "e2b98f9d",
   "metadata": {},
   "outputs": [
    {
     "data": {
      "text/plain": [
       "customer_id                 0.000000\n",
       "credit_lines_outstanding    0.420292\n",
       "loan_amt_outstanding        0.005058\n",
       "total_debt_outstanding      0.304367\n",
       "income                      0.003821\n",
       "years_employed              0.042655\n",
       "fico_score                  0.053843\n",
       "Name: mutual_info, dtype: float64"
      ]
     },
     "execution_count": 26,
     "metadata": {},
     "output_type": "execute_result"
    }
   ],
   "source": [
    "mutual_info"
   ]
  },
  {
   "cell_type": "code",
   "execution_count": 27,
   "id": "a5013d9b",
   "metadata": {},
   "outputs": [],
   "source": [
    "%matplotlib inline\n",
    "import matplotlib.pyplot as plt\n",
    "import seaborn as sns\n",
    "import numpy as np"
   ]
  },
  {
   "cell_type": "code",
   "execution_count": 28,
   "id": "a60d0a3a",
   "metadata": {},
   "outputs": [],
   "source": [
    "def plot_mutual_info(scores):\n",
    "    scores = scores.sort_values(ascending = True)\n",
    "    width = np.arange(len(scores))\n",
    "    ticks = list(scores.index)\n",
    "    plt.barh(width, scores)\n",
    "    plt.yticks(width, ticks)\n",
    "    plt.title(\"Mutual Information Scores\")"
   ]
  },
  {
   "cell_type": "code",
   "execution_count": 29,
   "id": "c59dc783",
   "metadata": {},
   "outputs": [
    {
     "data": {
      "image/png": "[encoded data removed]",
      "text/plain": [
       "<Figure size 800x500 with 1 Axes>"
      ]
     },
     "metadata": {},
     "output_type": "display_data"
    }
   ],
   "source": [
    "plt.figure(dpi = 100, figsize = (8, 5))\n",
    "plot_mutual_info(mutual_info)"
   ]
  },
  {
   "cell_type": "code",
   "execution_count": 62,
   "id": "3091d975",
   "metadata": {},
   "outputs": [
    {
     "name": "stdout",
     "output_type": "stream",
     "text": [
      "Accuracy: 0.99\n",
      "[1]\n"
     ]
    }
   ],
   "source": [
    "from sklearn.linear_model import LogisticRegression\n",
    "from sklearn.model_selection import train_test_split\n",
    "\n",
    "# Split the data into training and testing sets\n",
    "X_train, X_test, y_train, y_test = train_test_split(X, y, test_size=0.2, random_state=42)\n",
    "\n",
    "# Train a logistic regression model\n",
    "model = LogisticRegression()\n",
    "model.fit(X_train, y_train)\n",
    "\n",
    "# Evaluate the model on the test set\n",
    "score = model.score(X_test, y_test)\n",
    "print(f\"Accuracy: {score:.2f}\")\n",
    "\n",
    "X_predict = pd.DataFrame(np.array([5,1958.928726,8228.75252,26648.43525,2,572]).reshape(1,-1), \n",
    "                         columns=[\"credit_lines_outstanding\", \"loan_amt_outstanding\",\"total_debt_outstanding\",\"income\",\"years_employed\",\"fico_score\"])\n",
    "\n",
    "y_predict = model.predict(X_predict)\n",
    "print(y_predict)\n"
   ]
  },
  {
   "cell_type": "code",
   "execution_count": 63,
   "id": "83ebe831",
   "metadata": {},
   "outputs": [
    {
     "name": "stdout",
     "output_type": "stream",
     "text": [
      "Accuracy: 0.99\n"
     ]
    }
   ],
   "source": [
    "from sklearn.tree import DecisionTreeClassifier\n",
    "\n",
    "# Train a decision tree model\n",
    "dc_model = DecisionTreeClassifier()\n",
    "dc_model.fit(X_train, y_train)\n",
    "\n",
    "# Evaluate the model on the test set\n",
    "score = dc_model.score(X_test, y_test)\n",
    "print(f\"Accuracy: {score:.2f}\")\n"
   ]
  },
  {
   "cell_type": "code",
   "execution_count": 64,
   "id": "30c5c434",
   "metadata": {},
   "outputs": [],
   "source": [
    "# Get the features and labels\n",
    "X = data[[\"credit_lines_outstanding\", \"loan_amt_outstanding\",\"total_debt_outstanding\",\"income\",\"years_employed\",\"fico_score\"]]\n",
    "y = data[\"default\"]\n"
   ]
  },
  {
   "cell_type": "code",
   "execution_count": 65,
   "id": "a83c7c1b",
   "metadata": {},
   "outputs": [
    {
     "name": "stdout",
     "output_type": "stream",
     "text": [
      "[0.9955 0.998  0.996  0.9965 0.9935]\n"
     ]
    }
   ],
   "source": [
    "import sklearn\n",
    "# Perform 5-fold cross-validation\n",
    "scores = sklearn.model_selection.cross_val_score(dc_model, X, y, cv=5)\n",
    "\n",
    "# Print the scores for each fold\n",
    "print(scores)"
   ]
  },
  {
   "cell_type": "code",
   "execution_count": 67,
   "id": "c4966e8b",
   "metadata": {},
   "outputs": [
    {
     "name": "stdout",
     "output_type": "stream",
     "text": [
      "[1]\n"
     ]
    }
   ],
   "source": [
    "X_predict = pd.DataFrame(np.array([5,1958.928726,8228.75252,26648.43525,2,572]).reshape(1,-1), \n",
    "                         columns=[\"credit_lines_outstanding\", \"loan_amt_outstanding\",\"total_debt_outstanding\",\"income\",\"years_employed\",\"fico_score\"])\n",
    "\n",
    "pred = dc_model.predict(X_predict)\n",
    "print(pred)"
   ]
  },
  {
   "cell_type": "code",
   "execution_count": 68,
   "id": "0fdfe1e0",
   "metadata": {},
   "outputs": [
    {
     "data": {
      "text/plain": [
       "array([1], dtype=int64)"
      ]
     },
     "execution_count": 68,
     "metadata": {},
     "output_type": "execute_result"
    }
   ],
   "source": [
    "import pickle\n",
    "\n",
    "# save\n",
    "with open('dc_model.pkl','wb') as f:\n",
    "    pickle.dump(dc_model,f)\n",
    "\n",
    "# load\n",
    "with open('dc_model.pkl', 'rb') as f:\n",
    "    loaded_dc_model = pickle.load(f)\n",
    "\n",
    "loaded_dc_model.predict(X_predict)"
   ]
  },
  {
   "cell_type": "code",
   "execution_count": null,
   "id": "b5062ff9",
   "metadata": {},
   "outputs": [],
   "source": []
  }
 ],
 "metadata": {
  "kernelspec": {
   "display_name": "Python 3 (ipykernel)",
   "language": "python",
   "name": "python3"
  },
  "language_info": {
   "codemirror_mode": {
    "name": "ipython",
    "version": 3
   },
   "file_extension": ".py",
   "mimetype": "text/x-python",
   "name": "python",
   "nbconvert_exporter": "python",
   "pygments_lexer": "ipython3",
   "version": "3.9.13"
  }
 },
 "nbformat": 4,
 "nbformat_minor": 5
}
