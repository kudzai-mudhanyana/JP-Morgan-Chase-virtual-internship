{
 "cells": [
  {
   "cell_type": "code",
   "execution_count": 3,
   "id": "d8cea5c2",
   "metadata": {},
   "outputs": [],
   "source": [
    "import numpy as np\n",
    "\n",
    "def calculate_contract_value(injection_dates, withdrawal_dates, purchase_prices, sale_prices, injection_rates, withdrawal_rates, max_volume, storage_costs):\n",
    "    # Calculate the expected cash inflows from selling natural gas in winter\n",
    "    cash_inflows = np.sum(np.multiply(sale_prices, withdrawal_rates) * max_volume)\n",
    "\n",
    "    # Calculate the present value of the expected cash inflows\n",
    "    present_value_cash_inflows = cash_inflows / (1 + 0) ** (withdrawal_dates[-1] - injection_dates[0]).days\n",
    "\n",
    "    # Calculate the expected cash outflows from buying and storing natural gas in summer\n",
    "    cash_outflows = np.sum(np.multiply(purchase_prices, injection_rates) * max_volume) + storage_costs\n",
    "\n",
    "    # Calculate the present value of the expected cash outflows\n",
    "    present_value_cash_outflows = cash_outflows / (1 + 0) ** (injection_dates[-1] - injection_dates[0]).days\n",
    "\n",
    "    # Calculate the net present value (NPV)\n",
    "    npv = present_value_cash_inflows - present_value_cash_outflows\n",
    "\n",
    "    return npv\n"
   ]
  },
  {
   "cell_type": "code",
   "execution_count": 4,
   "id": "69a8f0f7",
   "metadata": {},
   "outputs": [
    {
     "name": "stdout",
     "output_type": "stream",
     "text": [
      "Net present value: $1399999900000.00\n"
     ]
    }
   ],
   "source": [
    "# You can test this function by passing in sample inputs. For example:\n",
    "\n",
    "from datetime import datetime\n",
    "\n",
    "injection_dates = [datetime(2020, 10, 31), datetime(2020, 11, 30)]\n",
    "withdrawal_dates = [datetime(2021, 1, 31), datetime(2021, 2, 28)]\n",
    "purchase_prices = [10.1, 10.3]\n",
    "sale_prices = [10.9, 10.9]\n",
    "injection_rates = [1000000, 1000000]\n",
    "withdrawal_rates = [1000000, 1000000]\n",
    "max_volume = 1000000\n",
    "storage_costs = 100000\n",
    "\n",
    "npv = calculate_contract_value(injection_dates=injection_dates,\n",
    "                               withdrawal_dates=withdrawal_dates,\n",
    "                               purchase_prices=purchase_prices,\n",
    "                               sale_prices=sale_prices,\n",
    "                               injection_rates=injection_rates,\n",
    "                               withdrawal_rates=withdrawal_rates,\n",
    "                               max_volume=max_volume,\n",
    "                               storage_costs=storage_costs)\n",
    "\n",
    "print(f\"Net present value: ${npv:.2f}\")\n"
   ]
  },
  {
   "cell_type": "code",
   "execution_count": null,
   "id": "5269e946",
   "metadata": {},
   "outputs": [],
   "source": []
  }
 ],
 "metadata": {
  "kernelspec": {
   "display_name": "Python 3 (ipykernel)",
   "language": "python",
   "name": "python3"
  },
  "language_info": {
   "codemirror_mode": {
    "name": "ipython",
    "version": 3
   },
   "file_extension": ".py",
   "mimetype": "text/x-python",
   "name": "python",
   "nbconvert_exporter": "python",
   "pygments_lexer": "ipython3",
   "version": "3.9.13"
  }
 },
 "nbformat": 4,
 "nbformat_minor": 5
}
